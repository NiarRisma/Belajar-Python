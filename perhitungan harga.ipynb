{
 "cells": [
  {
   "cell_type": "code",
   "execution_count": 4,
   "id": "31960d0c",
   "metadata": {},
   "outputs": [
    {
     "name": "stdout",
     "output_type": "stream",
     "text": [
      "januari\n",
      "['desember', 'februari', 'maret', 'april']\n"
     ]
    }
   ],
   "source": [
    "contoh_tuple=['januari','februari','maret','april']\n",
    "print(contoh_tuple[0])\n",
    "contoh_tuple[0]='desember'\n",
    "print(contoh_tuple)"
   ]
  },
  {
   "cell_type": "code",
   "execution_count": null,
   "id": "90f8ae1e",
   "metadata": {},
   "outputs": [],
   "source": []
  }
 ],
 "metadata": {
  "kernelspec": {
   "display_name": "Python 3 (ipykernel)",
   "language": "python",
   "name": "python3"
  },
  "language_info": {
   "codemirror_mode": {
    "name": "ipython",
    "version": 3
   },
   "file_extension": ".py",
   "mimetype": "text/x-python",
   "name": "python",
   "nbconvert_exporter": "python",
   "pygments_lexer": "ipython3",
   "version": "3.10.2"
  }
 },
 "nbformat": 4,
 "nbformat_minor": 5
}
