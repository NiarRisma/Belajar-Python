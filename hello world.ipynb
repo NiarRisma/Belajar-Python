{
 "cells": [
  {
   "cell_type": "code",
   "execution_count": 10,
   "id": "a5a851f8",
   "metadata": {},
   "outputs": [
    {
     "name": "stdout",
     "output_type": "stream",
     "text": [
      "Hello World\n",
      "Saya senang sekali belajar Python\n",
      "Saya Niar Risma Aulia mahasiswa teknik komputer universitas wiralodra\n"
     ]
    }
   ],
   "source": [
    "print('Hello World')\n",
    "print('Saya senang sekali belajar Python')\n",
    "print('Saya Niar Risma Aulia mahasiswa teknik komputer universitas wiralodra')\n"
   ]
  },
  {
   "cell_type": "code",
   "execution_count": null,
   "id": "2f960b84",
   "metadata": {},
   "outputs": [],
   "source": []
  }
 ],
 "metadata": {
  "kernelspec": {
   "display_name": "Python 3 (ipykernel)",
   "language": "python",
   "name": "python3"
  },
  "language_info": {
   "codemirror_mode": {
    "name": "ipython",
    "version": 3
   },
   "file_extension": ".py",
   "mimetype": "text/x-python",
   "name": "python",
   "nbconvert_exporter": "python",
   "pygments_lexer": "ipython3",
   "version": "3.10.2"
  }
 },
 "nbformat": 4,
 "nbformat_minor": 5
}
